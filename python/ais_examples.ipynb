{
 "cells": [
  {
   "cell_type": "markdown",
   "metadata": {},
   "source": [
    "# AIS Library - Simple Examples\n",
    "\n",
    "The purpose of this notebook is to show how the developed AIS library can be utilized to compute expectations w.r.t. arbitrary target distributions."
   ]
  },
  {
   "cell_type": "code",
   "execution_count": 1,
   "metadata": {},
   "outputs": [],
   "source": [
    "import numpy as np\n",
    "import scipy.stats as sp\n",
    "import matplotlib.pyplot as plt\n",
    "from scipy.stats import multivariate_normal as mvn\n",
    "import ais_lib"
   ]
  },
  {
   "cell_type": "markdown",
   "metadata": {},
   "source": [
    "## Example 1: Multivariate Gaussian Target\n",
    "\n",
    "Let $\\theta\\in\\mathbb{R}^d$ be a $d$-dimensional random vector on some probability space. Suppose we would like to estimate a target distribution\n",
    "$$ \\tilde\\pi(\\theta) \\propto \\mathcal{N}(\\theta; \\mu_\\pi, \\Sigma_\\pi)$$\n",
    "where $\\mu\\in\\mathbb{R}^d$ is the target mean vector and $\\Sigma_\\pi\\in\\mathbb{R}^{d\\times d}$ is the target covariance matrix. Our specific goal is to estimate the normalizing constant $Z_\\pi=\\int_{-\\infty}^\\infty \\tilde\\pi(\\theta)$ and the mean vector $\\mu_\\pi=\\mathbb{E}_\\pi[\\theta]$. \n",
    "\n",
    "Let us set the parameters of the target:"
   ]
  },
  {
   "cell_type": "code",
   "execution_count": 2,
   "metadata": {},
   "outputs": [],
   "source": [
    "# Set parameters of the target distribution\n",
    "d_theta = 2                    # dimension \n",
    "Z_pi = 1e-3                    # normalizing constant  \n",
    "mu_pi = np.zeros(d_theta)      # target mean\n",
    "sigma_pi = 0.1*np.eye(d_theta) # target covariance matrix \n",
    "\n",
    "# Create function handle\n",
    "target_1 = lambda theta: np.log(Z_pi)+mvn.logpdf(theta, mu_pi, sigma_pi)"
   ]
  },
  {
   "cell_type": "markdown",
   "metadata": {},
   "source": [
    "We can visualize the target distribution using a contour plot."
   ]
  },
  {
   "cell_type": "code",
   "execution_count": 3,
   "metadata": {},
   "outputs": [
    {
     "data": {
      "image/png": "[encoded data removed]",
      "text/plain": [
       "<Figure size 432x288 with 1 Axes>"
      ]
     },
     "metadata": {
      "needs_background": "light"
     },
     "output_type": "display_data"
    }
   ],
   "source": [
    "def function_contour(func_eval, xmin=-2, xmax=2, ymin=-2, ymax=2, delta=0.01):\n",
    "    x,y = np.arange(xmin, xmax, delta),np.arange(ymin, ymax, delta)\n",
    "    X,Y = np.meshgrid(x,y)\n",
    "    # Reshape the X,Y axes\n",
    "    Xtemp = np.reshape(X,[np.prod(X.shape),1])\n",
    "    Ytemp = np.reshape(Y,[np.prod(Y.shape),1])\n",
    "    # Evaluate target and reshape\n",
    "    Ztemp = func_eval(np.array([Xtemp,Ytemp]).T)\n",
    "    Z = np.reshape(np.asmatrix(Ztemp),[X.shape[0],X.shape[1]])\n",
    "    # Plot contour\n",
    "    fig = plt.contourf(X,Y,Z)\n",
    "    return fig\n",
    "\n",
    "# Define the actual target\n",
    "temp_target = lambda x: np.exp(target_1(x))\n",
    "fig1 = function_contour(temp_target)"
   ]
  },
  {
   "cell_type": "code",
   "execution_count": 4,
   "metadata": {},
   "outputs": [],
   "source": [
    "# Run PMC \n",
    "theta, log_w = ais_lib.pmc(target_1, d_theta)"
   ]
  },
  {
   "cell_type": "code",
   "execution_count": 9,
   "metadata": {},
   "outputs": [
    {
     "data": {
      "image/png": "[encoded data removed]",
      "text/plain": [
       "<Figure size 432x288 with 1 Axes>"
      ]
     },
     "metadata": {
      "needs_background": "light"
     },
     "output_type": "display_data"
    }
   ],
   "source": [
    "# Convert log weights to standard weights and normalize\n",
    "w = np.exp(log_w-np.max(log_w))\n",
    "w = w/np.sum(w)\n",
    "# Sampling importance resampling (SIR) to get approximate posterior samples \n",
    "idx = np.random.choice(theta.shape[0], 1000, replace=True, p=w)\n",
    "post_samples = theta[idx, :]\n",
    "# Plot the approximated target using a weighted histogram\n",
    "fig2 = plt.hist2d(post_samples[:,0], post_samples[:,1], bins=20)"
   ]
  },
  {
   "cell_type": "code",
   "execution_count": null,
   "metadata": {},
   "outputs": [],
   "source": []
  },
  {
   "cell_type": "code",
   "execution_count": null,
   "metadata": {},
   "outputs": [],
   "source": []
  },
  {
   "cell_type": "code",
   "execution_count": null,
   "metadata": {},
   "outputs": [],
   "source": []
  }
 ],
 "metadata": {
  "kernelspec": {
   "display_name": "Python 3",
   "language": "python",
   "name": "python3"
  },
  "language_info": {
   "codemirror_mode": {
    "name": "ipython",
    "version": 3
   },
   "file_extension": ".py",
   "mimetype": "text/x-python",
   "name": "python",
   "nbconvert_exporter": "python",
   "pygments_lexer": "ipython3",
   "version": "3.7.3"
  },
  "pycharm": {
   "stem_cell": {
    "cell_type": "raw",
    "source": [],
    "metadata": {
     "collapsed": false
    }
   }
  }
 },
 "nbformat": 4,
 "nbformat_minor": 2
}