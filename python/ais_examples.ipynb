{
 "cells": [
  {
   "cell_type": "markdown",
   "metadata": {},
   "source": [
    "# AIS Library Tutorial\n",
    "\n",
    "The purpose of this notebook is to provide a comprehensive/practical tutorial on how to use the developed AIS library. In particular, we will show how the developed AIS library can be utilized to compute expectations with respect to arbitrary target distributions."
   ]
  },
  {
   "cell_type": "code",
   "execution_count": 1,
   "metadata": {
    "pycharm": {
     "is_executing": false
    }
   },
   "outputs": [],
   "source": [
    "import numpy as np\n",
    "import scipy.stats as sp\n",
    "import matplotlib.pyplot as plt\n",
    "from scipy.stats import multivariate_normal as mvn\n",
    "import ais_lib as ais\n",
    "\n",
    "def function_contour(func_eval, xmin=-2, xmax=2, ymin=-2, ymax=2, delta=0.01):\n",
    "    x,y = np.arange(xmin, xmax, delta),np.arange(ymin, ymax, delta)\n",
    "    X,Y = np.meshgrid(x,y)\n",
    "    # Reshape the X,Y axes\n",
    "    Xtemp = np.reshape(X,[np.prod(X.shape),1])\n",
    "    Ytemp = np.reshape(Y,[np.prod(Y.shape),1])\n",
    "    # Evaluate target and reshape\n",
    "    Ztemp = func_eval(np.array([Xtemp,Ytemp]).T)\n",
    "    Z = np.reshape(np.asmatrix(Ztemp),[X.shape[0],X.shape[1]])\n",
    "    # Plot contour\n",
    "    fig = plt.contourf(X,Y,Z)\n",
    "    return fig"
   ]
  },
  {
   "cell_type": "markdown",
   "metadata": {},
   "source": [
    "## Example 1: Multivariate Gaussian Target\n",
    "\n",
    "Let $\\theta\\in\\mathbb{R}^d$ be a $d$-dimensional random vector on some probability space. Suppose we would like to estimate a target distribution\n",
    "$$ \\tilde\\pi(\\theta) \\propto \\mathcal{N}(\\theta; \\mu_\\pi, \\Sigma_\\pi)$$\n",
    "where $\\mu\\in\\mathbb{R}^d$ is the target mean vector and $\\Sigma_\\pi\\in\\mathbb{R}^{d\\times d}$ is the target covariance matrix. Our specific goal is to estimate the normalizing constant $Z_\\pi=\\int_{-\\infty}^\\infty \\tilde\\pi(\\theta) d\\theta$ and the mean vector $\\mu_\\pi=\\mathbb{E}_\\pi[\\theta]$. \n",
    "\n",
    "Let us set the parameters of the target:"
   ]
  },
  {
   "cell_type": "code",
   "execution_count": 42,
   "metadata": {},
   "outputs": [],
   "source": [
    "# Set parameters of the target distribution\n",
    "d_theta = 3                    # dimension \n",
    "Z_pi = 100                    # normalizing constant  \n",
    "mu_pi = np.zeros(d_theta)      # target mean\n",
    "sigma_pi = 1*np.eye(d_theta) # target covariance matrix \n",
    "\n",
    "# Create function handle\n",
    "target_1 = lambda theta: np.log(Z_pi)+mvn.logpdf(theta, mu_pi, sigma_pi)"
   ]
  },
  {
   "cell_type": "markdown",
   "metadata": {},
   "source": [
    "We can visualize the target distribution using a contour plot."
   ]
  },
  {
   "cell_type": "code",
   "execution_count": 43,
   "metadata": {},
   "outputs": [
    {
     "data": {
      "image/png": "[encoded data removed]",
      "text/plain": [
       "<Figure size 432x288 with 1 Axes>"
      ]
     },
     "metadata": {
      "needs_background": "light"
     },
     "output_type": "display_data"
    }
   ],
   "source": [
    "# Define the actual target\n",
    "temp_target = lambda x: mvn.pdf(x, mu_pi[:2], sigma_pi[:2,:2])\n",
    "fig1 = function_contour(temp_target)"
   ]
  },
  {
   "cell_type": "markdown",
   "metadata": {},
   "source": [
    "## Population Monte Carlo (PMC)\n",
    "We can use the PMC methodology to estimate the above target distribution. The performance of PMC depends on the particular weighting scheme that is chosen. The most basic implementation uses a standard weighting scheme, whereby each particle is weighted according to the ratio of the target and proposal used to generate it."
   ]
  },
  {
   "cell_type": "code",
   "execution_count": 44,
   "metadata": {},
   "outputs": [
    {
     "name": "stderr",
     "output_type": "stream",
     "text": [
      "100%|██████████| 200/200 [00:00<00:00, 2608.46it/s]\n"
     ]
    }
   ],
   "source": [
    "# Run the stadard PMC \n",
    "results_stdPMC = ais.pmc(target_1, d_theta, weighting_scheme='Standard')"
   ]
  },
  {
   "cell_type": "markdown",
   "metadata": {},
   "source": [
    "We can use resampling to see how well the methodology approximated the target."
   ]
  },
  {
   "cell_type": "code",
   "execution_count": 45,
   "metadata": {},
   "outputs": [
    {
     "data": {
      "image/png": "[encoded data removed]",
      "text/plain": [
       "<Figure size 432x288 with 1 Axes>"
      ]
     },
     "metadata": {
      "needs_background": "light"
     },
     "output_type": "display_data"
    }
   ],
   "source": [
    "# Extract results\n",
    "theta = results_stdPMC.particles\n",
    "log_w = results_stdPMC.log_weights\n",
    "# Convert log weights to standard weights and normalize\n",
    "w = np.exp(log_w-np.max(log_w))\n",
    "wn = w/np.sum(w)\n",
    "# Sampling importance resampling (SIR) to get approximate posterior samples \n",
    "idx = np.random.choice(theta.shape[0], 1000, replace=True, p=wn)\n",
    "post_samples = theta[idx, :]\n",
    "# Plot the approximated target using a weighted histogram\n",
    "fig = plt.hist2d(post_samples[:,0], post_samples[:,1], bins=20)"
   ]
  },
  {
   "cell_type": "markdown",
   "metadata": {},
   "source": [
    "We can check how well the sampler estimated interesting quantities, such as the normalization constant:"
   ]
  },
  {
   "cell_type": "code",
   "execution_count": 46,
   "metadata": {},
   "outputs": [
    {
     "name": "stdout",
     "output_type": "stream",
     "text": [
      "Absolute error in Z (Standard PMC):  5.010259468312967\n"
     ]
    }
   ],
   "source": [
    "# Total number of samples\n",
    "M = np.shape(w)[0]\n",
    "# Obtain estimate of normalization constant correcting for LSE trick\n",
    "log_Zest = np.log(1/M) + np.max(log_w) + np.log(np.sum(w))\n",
    "Zest = np.exp(log_Zest)\n",
    "# Compute mean absolute error in Z\n",
    "MAEZ_stdPMC = np.abs(Zest-Z_pi)\n",
    "print('Absolute error in Z (Standard PMC): ',MAEZ_stdPMC)"
   ]
  },
  {
   "cell_type": "markdown",
   "metadata": {},
   "source": [
    "We can also use an alternative weighting scheme, called the deterministic mixture (DM) weighting scheme. This weighting scheme weights each particle according to the ratio of the target and the mixture distribution. The mixture distribution is comprised of all proposals used to generate particles in that iteration. This weighting is known to reduce the variance of the AIS esitmator. "
   ]
  },
  {
   "cell_type": "code",
   "execution_count": 47,
   "metadata": {},
   "outputs": [
    {
     "name": "stderr",
     "output_type": "stream",
     "text": [
      "100%|██████████| 200/200 [00:03<00:00, 65.58it/s]\n"
     ]
    },
    {
     "data": {
      "image/png": "[encoded data removed]",
      "text/plain": [
       "<Figure size 432x288 with 1 Axes>"
      ]
     },
     "metadata": {
      "needs_background": "light"
     },
     "output_type": "display_data"
    }
   ],
   "source": [
    "# Run the stadard PMC \n",
    "results_DMPMC = ais.pmc(target_1, d_theta, weighting_scheme='DM')\n",
    "# Extract results\n",
    "theta = results_DMPMC.particles\n",
    "log_w = results_DMPMC.log_weights\n",
    "# Convert log weights to standard weights and normalize\n",
    "w = np.exp(log_w-np.max(log_w))\n",
    "wn = w/np.sum(w)\n",
    "# Sampling importance resampling (SIR) to get approximate posterior samples \n",
    "idx = np.random.choice(theta.shape[0], 1000, replace=True, p=wn)\n",
    "post_samples = theta[idx, :]\n",
    "# Plot the approximated target using a weighted histogram\n",
    "fig = plt.hist2d(post_samples[:,0], post_samples[:,1], bins=20)"
   ]
  },
  {
   "cell_type": "code",
   "execution_count": 48,
   "metadata": {},
   "outputs": [
    {
     "name": "stdout",
     "output_type": "stream",
     "text": [
      "Absolute error in Z (Standard PMC):  1.7767847560511711\n"
     ]
    }
   ],
   "source": [
    "# Total number of samples\n",
    "M = np.shape(w)[0]\n",
    "# Obtain estimate of normalization constant correcting for LSE trick\n",
    "log_Zest = np.log(1/M) + np.max(log_w) + np.log(np.sum(w))\n",
    "Zest = np.exp(log_Zest)\n",
    "# Compute mean absolute error in Z\n",
    "MAEZ_stdPMC = np.abs(Zest-Z_pi)\n",
    "print('Absolute error in Z (Standard PMC): ',MAEZ_stdPMC)"
   ]
  },
  {
   "cell_type": "code",
   "execution_count": null,
   "metadata": {},
   "outputs": [],
   "source": []
  }
 ],
 "metadata": {
  "kernelspec": {
   "display_name": "Python 3",
   "language": "python",
   "name": "python3"
  },
  "language_info": {
   "codemirror_mode": {
    "name": "ipython",
    "version": 3
   },
   "file_extension": ".py",
   "mimetype": "text/x-python",
   "name": "python",
   "nbconvert_exporter": "python",
   "pygments_lexer": "ipython3",
   "version": "3.7.3"
  },
  "pycharm": {
   "stem_cell": {
    "cell_type": "raw",
    "metadata": {
     "collapsed": false
    },
    "source": []
   }
  }
 },
 "nbformat": 4,
 "nbformat_minor": 2
}
